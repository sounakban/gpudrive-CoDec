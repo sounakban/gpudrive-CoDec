{
 "cells": [
  {
   "cell_type": "code",
   "execution_count": 22,
   "id": "68fe6457",
   "metadata": {},
   "outputs": [],
   "source": [
    "import torch\n"
   ]
  },
  {
   "cell_type": "code",
   "execution_count": 32,
   "id": "49d9e167",
   "metadata": {},
   "outputs": [],
   "source": [
    "tmp = torch.tensor([[[1,2],[3,4]],\n",
    "              [[5,6],[7,8]],\n",
    "              [[9,10],[11,12]]])"
   ]
  },
  {
   "cell_type": "code",
   "execution_count": 33,
   "id": "5ab1e273",
   "metadata": {},
   "outputs": [
    {
     "data": {
      "text/plain": [
       "tensor([[[ 1,  2],\n",
       "         [ 3,  4]],\n",
       "\n",
       "        [[ 5,  6],\n",
       "         [ 7,  8]],\n",
       "\n",
       "        [[ 9, 10],\n",
       "         [11, 12]]])"
      ]
     },
     "execution_count": 33,
     "metadata": {},
     "output_type": "execute_result"
    }
   ],
   "source": [
    "tmp"
   ]
  },
  {
   "cell_type": "code",
   "execution_count": 34,
   "id": "3c0d6bfe",
   "metadata": {},
   "outputs": [],
   "source": [
    "tmp_mask = torch.tensor([[True,False],\n",
    "              [False,True],\n",
    "              [False,False]])"
   ]
  },
  {
   "cell_type": "code",
   "execution_count": 35,
   "id": "ea8d6e15",
   "metadata": {},
   "outputs": [],
   "source": [
    "mask_val = torch.tensor([0,]*tmp.shape[-1])"
   ]
  },
  {
   "cell_type": "code",
   "execution_count": 36,
   "id": "ef44b7e5",
   "metadata": {},
   "outputs": [
    {
     "data": {
      "text/plain": [
       "tensor([0, 0])"
      ]
     },
     "execution_count": 36,
     "metadata": {},
     "output_type": "execute_result"
    }
   ],
   "source": [
    "mask_val"
   ]
  },
  {
   "cell_type": "code",
   "execution_count": 37,
   "id": "6b6992e3",
   "metadata": {},
   "outputs": [
    {
     "data": {
      "text/plain": [
       "tensor([[ True, False],\n",
       "        [False,  True],\n",
       "        [False, False]])"
      ]
     },
     "execution_count": 37,
     "metadata": {},
     "output_type": "execute_result"
    }
   ],
   "source": [
    "tmp_mask"
   ]
  },
  {
   "cell_type": "code",
   "execution_count": 38,
   "id": "363dc971",
   "metadata": {},
   "outputs": [],
   "source": [
    "tmp[tmp_mask] = mask_val"
   ]
  },
  {
   "cell_type": "code",
   "execution_count": 39,
   "id": "012d521b",
   "metadata": {},
   "outputs": [
    {
     "data": {
      "text/plain": [
       "tensor([[[ 0,  0],\n",
       "         [ 3,  4]],\n",
       "\n",
       "        [[ 5,  6],\n",
       "         [ 0,  0]],\n",
       "\n",
       "        [[ 9, 10],\n",
       "         [11, 12]]])"
      ]
     },
     "execution_count": 39,
     "metadata": {},
     "output_type": "execute_result"
    }
   ],
   "source": [
    "tmp"
   ]
  },
  {
   "cell_type": "code",
   "execution_count": 17,
   "id": "7c38f048",
   "metadata": {},
   "outputs": [],
   "source": [
    "t = ()\n",
    "t1 = (1,)\n",
    "t2 = (2,)"
   ]
  },
  {
   "cell_type": "code",
   "execution_count": 19,
   "id": "634e96d7",
   "metadata": {},
   "outputs": [],
   "source": [
    "t += t1"
   ]
  },
  {
   "cell_type": "code",
   "execution_count": 20,
   "id": "7cce3598",
   "metadata": {},
   "outputs": [
    {
     "data": {
      "text/plain": [
       "(1, 1)"
      ]
     },
     "execution_count": 20,
     "metadata": {},
     "output_type": "execute_result"
    }
   ],
   "source": [
    "t"
   ]
  },
  {
   "cell_type": "code",
   "execution_count": 21,
   "id": "d5bb05b5",
   "metadata": {},
   "outputs": [],
   "source": [
    "t += t2"
   ]
  },
  {
   "cell_type": "code",
   "execution_count": 22,
   "id": "ffd92598",
   "metadata": {},
   "outputs": [
    {
     "data": {
      "text/plain": [
       "(1, 1, 2)"
      ]
     },
     "execution_count": 22,
     "metadata": {},
     "output_type": "execute_result"
    }
   ],
   "source": [
    "t\n"
   ]
  },
  {
   "cell_type": "code",
   "execution_count": null,
   "id": "3dc79d47",
   "metadata": {},
   "outputs": [],
   "source": []
  }
 ],
 "metadata": {
  "kernelspec": {
   "display_name": "gpuDrive",
   "language": "python",
   "name": "python3"
  },
  "language_info": {
   "codemirror_mode": {
    "name": "ipython",
    "version": 3
   },
   "file_extension": ".py",
   "mimetype": "text/x-python",
   "name": "python",
   "nbconvert_exporter": "python",
   "pygments_lexer": "ipython3",
   "version": "3.12.3"
  }
 },
 "nbformat": 4,
 "nbformat_minor": 5
}
