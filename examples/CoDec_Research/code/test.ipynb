{
 "cells": [
  {
   "cell_type": "code",
   "execution_count": 2,
   "id": "00a5fa22",
   "metadata": {},
   "outputs": [],
   "source": [
    "from copy import deepcopy\n",
    "from functools import cache\n",
    "from os import listdir\n",
    "import json\n",
    "import pickle\n",
    "from datetime import datetime\n",
    "from functools import partial\n",
    "\n",
    "from scipy.special import softmax\n",
    "import numpy as np\n",
    "import math\n",
    "from itertools import combinations\n",
    "\n",
    "from typing import Any, List, Tuple\n",
    "import time\n",
    "\n",
    "import torch\n",
    "import dataclasses\n",
    "\n",
    "\n",
    "# |Set root for GPUDrive import\n",
    "import os\n",
    "import sys\n",
    "from pathlib import Path\n",
    "\n",
    "from traitlets import default\n",
    "\n",
    "# Set working directory to the base directory 'gpudrive'\n",
    "working_dir = Path.cwd()\n",
    "while working_dir.name != 'gpudrive-CoDec':\n",
    "    working_dir = working_dir.parent\n",
    "    if working_dir == Path.home():\n",
    "        raise FileNotFoundError(\"Base directory 'gpudrive' not found\")\n",
    "os.chdir(working_dir)\n",
    "sys.path.append(str(working_dir))"
   ]
  },
  {
   "cell_type": "code",
   "execution_count": 3,
   "id": "56347259",
   "metadata": {},
   "outputs": [],
   "source": [
    "srFile = \"examples/CoDec_Research/results/simulation_results/server/Set2_construal_vals_2025-05-11 15_02_12.469384.pickle\"\n",
    "with open(srFile, 'rb') as opn_file:\n",
    "    construal_action_likelihoods = pickle.load(opn_file)\n"
   ]
  },
  {
   "cell_type": "code",
   "execution_count": 4,
   "id": "d81049cf",
   "metadata": {},
   "outputs": [
    {
     "data": {
      "text/plain": [
       "{'dict_structure': '{scene_name: {construal_index: value}}',\n",
       " 'tfrecord-00035-of-01000_85': {(0,): 1.0,\n",
       "  (1,): 1.0,\n",
       "  (2,): 1.0,\n",
       "  (3,): 1.0,\n",
       "  (4,): 0.975,\n",
       "  (5,): 1.0,\n",
       "  (35,): 1.0,\n",
       "  (41,): 1.0,\n",
       "  (0, 1, 2, 3, 4, 5, 35, 41): 1.0},\n",
       " 'tfrecord-00046-of-01000_167': {(0,): 1.0,\n",
       "  (1,): 1.0,\n",
       "  (2,): 1.0,\n",
       "  (3,): 1.0,\n",
       "  (4,): 1.0,\n",
       "  (5,): 1.0,\n",
       "  (6,): 1.0,\n",
       "  (7,): 1.0,\n",
       "  (8,): 1.0,\n",
       "  (10,): 1.0,\n",
       "  (11,): 1.0,\n",
       "  (12,): 1.0,\n",
       "  (15,): 1.0,\n",
       "  (17,): 1.0,\n",
       "  (18,): 1.0,\n",
       "  (19,): 1.0,\n",
       "  (20,): 1.0,\n",
       "  (24,): 1.0,\n",
       "  (31,): 1.0,\n",
       "  (0, 1, 2, 3, 4, 5, 6, 7, 8, 10, 11, 12, 15, 17, 18, 19, 20, 24, 31): 0.975},\n",
       " 'tfrecord-00047-of-01000_484': {(0,): 1.0,\n",
       "  (2,): 0.975,\n",
       "  (3,): 1.0,\n",
       "  (4,): 1.0,\n",
       "  (5,): 1.0,\n",
       "  (6,): 1.0,\n",
       "  (7,): 1.0,\n",
       "  (8,): 1.0,\n",
       "  (9,): 1.0,\n",
       "  (10,): 1.0,\n",
       "  (11,): 1.0,\n",
       "  (12,): 1.0,\n",
       "  (13,): 1.0,\n",
       "  (14,): 1.0,\n",
       "  (16,): 1.0,\n",
       "  (17,): 1.0,\n",
       "  (18,): 1.0,\n",
       "  (19,): 1.0,\n",
       "  (21,): 1.0,\n",
       "  (22,): 1.0,\n",
       "  (23,): 1.0,\n",
       "  (24,): 1.0,\n",
       "  (26,): 1.0,\n",
       "  (27,): 0.975,\n",
       "  (28,): 1.0,\n",
       "  (29,): 1.0,\n",
       "  (30,): 1.0,\n",
       "  (31,): 0.975,\n",
       "  (32,): 1.0,\n",
       "  (33,): 1.0,\n",
       "  (34,): 1.0,\n",
       "  (0,\n",
       "   2,\n",
       "   3,\n",
       "   4,\n",
       "   5,\n",
       "   6,\n",
       "   7,\n",
       "   8,\n",
       "   9,\n",
       "   10,\n",
       "   11,\n",
       "   12,\n",
       "   13,\n",
       "   14,\n",
       "   16,\n",
       "   17,\n",
       "   18,\n",
       "   19,\n",
       "   21,\n",
       "   22,\n",
       "   23,\n",
       "   24,\n",
       "   26,\n",
       "   27,\n",
       "   28,\n",
       "   29,\n",
       "   30,\n",
       "   31,\n",
       "   32,\n",
       "   33,\n",
       "   34): 1.0},\n",
       " 'tfrecord-00101-of-01000_71': {(0,): 1.0,\n",
       "  (1,): 1.0,\n",
       "  (5,): 1.0,\n",
       "  (9,): 1.0,\n",
       "  (10,): 1.0,\n",
       "  (42,): 1.0,\n",
       "  (43,): 1.0,\n",
       "  (0, 1, 5, 9, 10, 42, 43): 1.0},\n",
       " 'tfrecord-00127-of-01000_474': {(0,): 1.0,\n",
       "  (1,): 1.0,\n",
       "  (2,): 1.0,\n",
       "  (3,): 0.975,\n",
       "  (4,): 1.0,\n",
       "  (5,): 1.0,\n",
       "  (7,): 0.975,\n",
       "  (8,): 1.0,\n",
       "  (0, 1, 2, 3, 4, 5, 7, 8): 0.85},\n",
       " 'tfrecord-00138-of-01000_326': {(0,): 1.0,\n",
       "  (7,): 1.0,\n",
       "  (9,): 1.0,\n",
       "  (10,): 1.0,\n",
       "  (11,): 1.0,\n",
       "  (13,): 1.0,\n",
       "  (14,): 1.0,\n",
       "  (18,): 1.0,\n",
       "  (22,): 1.0,\n",
       "  (0, 7, 9, 10, 11, 13, 14, 18, 22): 1.0},\n",
       " 'tfrecord-00189-of-01000_117': {(0,): 1.0,\n",
       "  (1,): 1.0,\n",
       "  (2,): 1.0,\n",
       "  (3,): 1.0,\n",
       "  (4,): 1.0,\n",
       "  (5,): 1.0,\n",
       "  (6,): 1.0,\n",
       "  (7,): 1.0,\n",
       "  (8,): 1.0,\n",
       "  (9,): 1.0,\n",
       "  (10,): 1.0,\n",
       "  (11,): 1.0,\n",
       "  (12,): 1.0,\n",
       "  (0, 1, 2, 3, 4, 5, 6, 7, 8, 9, 10, 11, 12): 1.0},\n",
       " 'tfrecord-00252-of-01000_16': {(0,): 1.0,\n",
       "  (7,): 1.0,\n",
       "  (9,): 1.0,\n",
       "  (13,): 1.0,\n",
       "  (22,): 1.0,\n",
       "  (0, 7, 9, 13, 22): 1.0},\n",
       " 'tfrecord-00260-of-01000_91': {(0,): 1.0,\n",
       "  (5,): 1.0,\n",
       "  (11,): 1.0,\n",
       "  (12,): 1.0,\n",
       "  (13,): 1.0,\n",
       "  (14,): 1.0,\n",
       "  (15,): 1.0,\n",
       "  (16,): 1.0,\n",
       "  (19,): 1.0,\n",
       "  (27,): 1.0,\n",
       "  (29,): 1.0,\n",
       "  (30,): 1.0,\n",
       "  (31,): 1.0,\n",
       "  (38,): 1.0,\n",
       "  (41,): 1.0,\n",
       "  (42,): 1.0,\n",
       "  (44,): 1.0,\n",
       "  (47,): 1.0,\n",
       "  (51,): 1.0,\n",
       "  (57,): 1.0,\n",
       "  (0,\n",
       "   5,\n",
       "   11,\n",
       "   12,\n",
       "   13,\n",
       "   14,\n",
       "   15,\n",
       "   16,\n",
       "   19,\n",
       "   27,\n",
       "   29,\n",
       "   30,\n",
       "   31,\n",
       "   38,\n",
       "   41,\n",
       "   42,\n",
       "   44,\n",
       "   47,\n",
       "   51,\n",
       "   57): 1.0},\n",
       " 'tfrecord-00270-of-01000_104': {(1,): 1.0,\n",
       "  (3,): 1.0,\n",
       "  (4,): 1.0,\n",
       "  (5,): 1.0,\n",
       "  (6,): 1.0,\n",
       "  (7,): 1.0,\n",
       "  (8,): 1.0,\n",
       "  (10,): 1.0,\n",
       "  (11,): 1.0,\n",
       "  (13,): 1.0,\n",
       "  (15,): 1.0,\n",
       "  (18,): 1.0,\n",
       "  (19,): 1.0,\n",
       "  (20,): 1.0,\n",
       "  (23,): 1.0,\n",
       "  (24,): 1.0,\n",
       "  (26,): 1.0,\n",
       "  (28,): 1.0,\n",
       "  (29,): 1.0,\n",
       "  (30,): 1.0,\n",
       "  (31,): 1.0,\n",
       "  (32,): 1.0,\n",
       "  (33,): 1.0,\n",
       "  (34,): 1.0,\n",
       "  (35,): 1.0,\n",
       "  (36,): 1.0,\n",
       "  (1,\n",
       "   3,\n",
       "   4,\n",
       "   5,\n",
       "   6,\n",
       "   7,\n",
       "   8,\n",
       "   10,\n",
       "   11,\n",
       "   13,\n",
       "   15,\n",
       "   18,\n",
       "   19,\n",
       "   20,\n",
       "   23,\n",
       "   24,\n",
       "   26,\n",
       "   28,\n",
       "   29,\n",
       "   30,\n",
       "   31,\n",
       "   32,\n",
       "   33,\n",
       "   34,\n",
       "   35,\n",
       "   36): 1.0},\n",
       " 'tfrecord-00286-of-01000_402': {(0,): 1.0,\n",
       "  (1,): 1.0,\n",
       "  (2,): 1.0,\n",
       "  (4,): 1.0,\n",
       "  (5,): 1.0,\n",
       "  (6,): 1.0,\n",
       "  (8,): 1.0,\n",
       "  (10,): 1.0,\n",
       "  (12,): 1.0,\n",
       "  (0, 1, 2, 4, 5, 6, 8, 10, 12): 1.0},\n",
       " 'tfrecord-00342-of-01000_159': {(0,): 1.0,\n",
       "  (1,): 1.0,\n",
       "  (2,): 1.0,\n",
       "  (3,): 1.0,\n",
       "  (4,): 1.0,\n",
       "  (6,): 1.0,\n",
       "  (7,): 1.0,\n",
       "  (8,): 1.0,\n",
       "  (9,): 1.0,\n",
       "  (10,): 1.0,\n",
       "  (11,): 1.0,\n",
       "  (0, 1, 2, 3, 4, 6, 7, 8, 9, 10, 11): 0.925},\n",
       " 'tfrecord-00417-of-01000_309': {(0,): 1.0,\n",
       "  (1,): 1.0,\n",
       "  (3,): 1.0,\n",
       "  (6,): 1.0,\n",
       "  (0, 1, 3, 6): 1.0},\n",
       " 'tfrecord-00484-of-01000_293': {(0,): 1.0,\n",
       "  (1,): 1.0,\n",
       "  (3,): 1.0,\n",
       "  (5,): 1.0,\n",
       "  (0, 1, 3, 5): 1.0},\n",
       " 'tfrecord-00551-of-01000_267': {(0,): 1.0,\n",
       "  (4,): 1.0,\n",
       "  (9,): 0.925,\n",
       "  (14,): 0.975,\n",
       "  (17,): 0.975,\n",
       "  (33,): 0.95,\n",
       "  (42,): 0.975,\n",
       "  (58,): 1.0,\n",
       "  (0, 4, 9, 14, 17, 33, 42, 58): 1.0},\n",
       " 'tfrecord-00627-of-01000_436': {(0,): 1.0,\n",
       "  (14,): 1.0,\n",
       "  (27,): 1.0,\n",
       "  (29,): 1.0,\n",
       "  (0, 14, 27, 29): 1.0},\n",
       " 'tfrecord-00728-of-01000_45': {(0,): 1.0,\n",
       "  (1,): 1.0,\n",
       "  (2,): 1.0,\n",
       "  (3,): 1.0,\n",
       "  (0, 1, 2, 3): 1.0},\n",
       " 'tfrecord-00751-of-01000_212': {(0,): 0.975,\n",
       "  (1,): 0.975,\n",
       "  (2,): 0.925,\n",
       "  (4,): 1.0,\n",
       "  (5,): 1.0,\n",
       "  (6,): 0.975,\n",
       "  (9,): 1.0,\n",
       "  (10,): 1.0,\n",
       "  (12,): 1.0,\n",
       "  (14,): 1.0,\n",
       "  (15,): 1.0,\n",
       "  (18,): 1.0,\n",
       "  (21,): 0.975,\n",
       "  (22,): 1.0,\n",
       "  (23,): 0.975,\n",
       "  (25,): 1.0,\n",
       "  (27,): 1.0,\n",
       "  (31,): 1.0,\n",
       "  (33,): 1.0,\n",
       "  (34,): 0.975,\n",
       "  (35,): 1.0,\n",
       "  (36,): 0.975,\n",
       "  (37,): 1.0,\n",
       "  (38,): 1.0,\n",
       "  (39,): 1.0,\n",
       "  (40,): 1.0,\n",
       "  (0,\n",
       "   1,\n",
       "   2,\n",
       "   4,\n",
       "   5,\n",
       "   6,\n",
       "   9,\n",
       "   10,\n",
       "   12,\n",
       "   14,\n",
       "   15,\n",
       "   18,\n",
       "   21,\n",
       "   22,\n",
       "   23,\n",
       "   25,\n",
       "   27,\n",
       "   31,\n",
       "   33,\n",
       "   34,\n",
       "   35,\n",
       "   36,\n",
       "   37,\n",
       "   38,\n",
       "   39,\n",
       "   40): 1.0},\n",
       " 'tfrecord-00782-of-01000_11': {(0,): 1.0,\n",
       "  (1,): 1.0,\n",
       "  (2,): 1.0,\n",
       "  (3,): 1.0,\n",
       "  (4,): 1.0,\n",
       "  (5,): 1.0,\n",
       "  (0, 1, 2, 3, 4, 5): 1.0},\n",
       " 'tfrecord-00802-of-01000_437': {(0,): 1.0,\n",
       "  (1,): 1.0,\n",
       "  (4,): 1.0,\n",
       "  (5,): 1.0,\n",
       "  (6,): 1.0,\n",
       "  (7,): 1.0,\n",
       "  (9,): 1.0,\n",
       "  (10,): 1.0,\n",
       "  (11,): 1.0,\n",
       "  (12,): 1.0,\n",
       "  (13,): 1.0,\n",
       "  (20,): 1.0,\n",
       "  (0, 1, 4, 5, 6, 7, 9, 10, 11, 12, 13, 20): 1.0},\n",
       " 'tfrecord-00852-of-01000_73': {(0,): 1.0,\n",
       "  (20,): 1.0,\n",
       "  (23,): 1.0,\n",
       "  (0, 20, 23): 1.0},\n",
       " 'tfrecord-00866-of-01000_469': {(0,): 0.85,\n",
       "  (2,): 1.0,\n",
       "  (3,): 0.875,\n",
       "  (4,): 0.95,\n",
       "  (6,): 0.875,\n",
       "  (7,): 0.9,\n",
       "  (8,): 0.9,\n",
       "  (9,): 0.925,\n",
       "  (11,): 0.825,\n",
       "  (12,): 0.95,\n",
       "  (16,): 0.75,\n",
       "  (17,): 0.875,\n",
       "  (20,): 0.8,\n",
       "  (21,): 0.725,\n",
       "  (0, 2, 3, 4, 6, 7, 8, 9, 11, 12, 16, 17, 20, 21): 0.875},\n",
       " 'tfrecord-00870-of-01000_118': {(0,): 1.0,\n",
       "  (1,): 1.0,\n",
       "  (2,): 1.0,\n",
       "  (19,): 1.0,\n",
       "  (32,): 1.0,\n",
       "  (35,): 1.0,\n",
       "  (0, 1, 2, 19, 32, 35): 1.0},\n",
       " 'tfrecord-00966-of-01000_34': {(0,): 1.0,\n",
       "  (5,): 1.0,\n",
       "  (58,): 1.0,\n",
       "  (60,): 1.0,\n",
       "  (0, 5, 58, 60): 1.0},\n",
       " 'tfrecord-00979-of-01000_320': {(0,): 1.0,\n",
       "  (27,): 1.0,\n",
       "  (34,): 1.0,\n",
       "  (44,): 0.975,\n",
       "  (45,): 1.0,\n",
       "  (46,): 1.0,\n",
       "  (47,): 0.975,\n",
       "  (48,): 1.0,\n",
       "  (49,): 1.0,\n",
       "  (51,): 1.0,\n",
       "  (52,): 1.0,\n",
       "  (53,): 1.0,\n",
       "  (55,): 1.0,\n",
       "  (57,): 1.0,\n",
       "  (0, 27, 34, 44, 45, 46, 47, 48, 49, 51, 52, 53, 55, 57): 1.0}}"
      ]
     },
     "execution_count": 4,
     "metadata": {},
     "output_type": "execute_result"
    }
   ],
   "source": [
    "construal_action_likelihoods"
   ]
  },
  {
   "cell_type": "code",
   "execution_count": 1,
   "id": "c0f52164",
   "metadata": {},
   "outputs": [
    {
     "ename": "RuntimeError",
     "evalue": "module compiled against ABI version 0x1000009 but this version of numpy is 0x2000000",
     "output_type": "error",
     "traceback": [
      "\u001b[31m---------------------------------------------------------------------------\u001b[39m",
      "\u001b[31mRuntimeError\u001b[39m                              Traceback (most recent call last)",
      "\u001b[31mRuntimeError\u001b[39m: module compiled against ABI version 0x1000009 but this version of numpy is 0x2000000"
     ]
    },
    {
     "ename": "RuntimeError",
     "evalue": "module compiled against ABI version 0x1000009 but this version of numpy is 0x2000000",
     "output_type": "error",
     "traceback": [
      "\u001b[31m---------------------------------------------------------------------------\u001b[39m",
      "\u001b[31mRuntimeError\u001b[39m                              Traceback (most recent call last)",
      "\u001b[31mRuntimeError\u001b[39m: module compiled against ABI version 0x1000009 but this version of numpy is 0x2000000"
     ]
    },
    {
     "name": "stderr",
     "output_type": "stream",
     "text": [
      "2025-05-14 17:11:01.013971: E external/local_xla/xla/stream_executor/cuda/cuda_fft.cc:467] Unable to register cuFFT factory: Attempting to register factory for plugin cuFFT when one has already been registered\n",
      "WARNING: All log messages before absl::InitializeLog() is called are written to STDERR\n",
      "E0000 00:00:1747257061.024993  116797 cuda_dnn.cc:8579] Unable to register cuDNN factory: Attempting to register factory for plugin cuDNN when one has already been registered\n",
      "E0000 00:00:1747257061.028320  116797 cuda_blas.cc:1407] Unable to register cuBLAS factory: Attempting to register factory for plugin cuBLAS when one has already been registered\n",
      "W0000 00:00:1747257061.036986  116797 computation_placer.cc:177] computation placer already registered. Please check linkage and avoid linking the same target more than once.\n",
      "W0000 00:00:1747257061.037013  116797 computation_placer.cc:177] computation placer already registered. Please check linkage and avoid linking the same target more than once.\n",
      "W0000 00:00:1747257061.037014  116797 computation_placer.cc:177] computation placer already registered. Please check linkage and avoid linking the same target more than once.\n",
      "W0000 00:00:1747257061.037015  116797 computation_placer.cc:177] computation placer already registered. Please check linkage and avoid linking the same target more than once.\n"
     ]
    },
    {
     "ename": "RuntimeError",
     "evalue": "module compiled against ABI version 0x1000009 but this version of numpy is 0x2000000",
     "output_type": "error",
     "traceback": [
      "\u001b[31m---------------------------------------------------------------------------\u001b[39m",
      "\u001b[31mRuntimeError\u001b[39m                              Traceback (most recent call last)",
      "\u001b[31mRuntimeError\u001b[39m: module compiled against ABI version 0x1000009 but this version of numpy is 0x2000000"
     ]
    },
    {
     "name": "stdout",
     "output_type": "stream",
     "text": [
      "Initialized default environment\n"
     ]
    }
   ],
   "source": [
    "\"\"\"\n",
    "    This part of pipeline 1 is dedicated to synthetic data generation. The code generates synthetic \n",
    "    data based on sampled construals (previous stage of pipeline).\n",
    "\"\"\"\n",
    "\n",
    "from copy import deepcopy\n",
    "from functools import cache\n",
    "from os import listdir\n",
    "import json\n",
    "import pickle\n",
    "import gc\n",
    "from datetime import datetime\n",
    "from functools import partial\n",
    "\n",
    "from scipy.special import softmax\n",
    "import numpy as np\n",
    "import math\n",
    "from itertools import combinations\n",
    "\n",
    "from typing import Any, List, Tuple\n",
    "import time\n",
    "\n",
    "import torch\n",
    "import dataclasses\n",
    "\n",
    "\n",
    "# |Set root for GPUDrive import\n",
    "import os\n",
    "import sys\n",
    "from pathlib import Path\n",
    "\n",
    "from traitlets import default\n",
    "\n",
    "# Set working directory to the base directory 'gpudrive'\n",
    "working_dir = Path.cwd()\n",
    "while working_dir.name != 'gpudrive-CoDec':\n",
    "    working_dir = working_dir.parent\n",
    "    if working_dir == Path.home():\n",
    "        raise FileNotFoundError(\"Base directory 'gpudrive' not found\")\n",
    "os.chdir(working_dir)\n",
    "sys.path.append(str(working_dir))\n",
    "\n",
    "\n",
    "# |GPUDrive imports\n",
    "from gpudrive.utils.config import load_config\n",
    "from examples.CoDec_Research.code.simulation.construal_main import generate_baseline_data, generate_selected_construal_traj, \\\n",
    "                                                                    get_constral_heurisrtic_values, generate_all_construal_trajnval\n",
    "from examples.CoDec_Research.code.gpuDrive_utils import get_gpuDrive_vars, save_pickle\n",
    "from examples.CoDec_Research.code.config import get_active_config\n",
    "\n",
    "\n",
    "# Function to extract filename from path\n",
    "env_path2name = lambda path: path.split(\"/\")[-1].split(\".\")[0]\n",
    "\n",
    "\n",
    "# |START TIMER\n",
    "start_time = time.perf_counter()\n",
    "\n",
    "####################################################\n",
    "################ SET EXP PARAMETERS ################\n",
    "####################################################\n",
    "\n",
    "curr_config = get_active_config()\n",
    "\n",
    "# Parameters for Inference\n",
    "heuristic_params = {\"ego_distance\": 0.5, \"cardinality\": 1}              # Hueristics and their weight parameters (to be inferred)\n",
    "\n",
    "construal_count_baseline = curr_config['construal_count_baseline']      # Number of construals to sample for baseline data generation\n",
    "trajectory_count_baseline = curr_config['trajectory_count_baseline']    # Number of baseline trajectories to generate per construal\n",
    "\n",
    "\n",
    "### Specify Environment Configuration ###\n",
    "\n",
    "# |Location to store (and retrieve pre-computed) simulation results\n",
    "simulation_results_path = \"examples/CoDec_Research/results/simulation_results/\"\n",
    "simulation_results_files = [simulation_results_path+fl_name for fl_name in listdir(simulation_results_path)]\n",
    "\n",
    "# |Model Config (on which model was trained)\n",
    "training_config = load_config(\"examples/experimental/config/reliable_agents_params\")\n",
    "\n",
    "# |Set scenario path\n",
    "dataset_path = 'data/processed/construal/Set1V/'\n",
    "processID = dataset_path.split('/')[-2]                 # Used for storing and retrieving relevant data\n",
    "\n",
    "# |Set simulator config\n",
    "max_agents = training_config.max_controlled_agents      # Get total vehicle count\n",
    "num_parallel_envs = curr_config['num_parallel_envs']\n",
    "total_envs = curr_config['total_envs']\n",
    "device = eval(curr_config['device'])\n",
    "\n",
    "# |Set construal config\n",
    "construal_size = 1\n",
    "observed_agents_count = max_agents - 1                              # Agents observed except self (used for vector sizes)\n",
    "sample_size_utility = curr_config['sample_size_utility']            # Number of samples to compute expected utility of a construal\n",
    "\n",
    "# |Other changes to variables\n",
    "training_config.max_controlled_agents = 1                           # Control only the first vehicle in the environment\n",
    "total_envs = min(total_envs, len(listdir(dataset_path)))\n",
    "\n",
    "\n",
    "env_config, train_loader, env, sim_agent = get_gpuDrive_vars(\n",
    "                                                            training_config=training_config,\n",
    "                                                            device=device,\n",
    "                                                            num_parallel_envs=num_parallel_envs,\n",
    "                                                            dataset_path=dataset_path,\n",
    "                                                            total_envs=total_envs,\n",
    "                                                            sim_agent_path=\"daphne-cornelisse/policy_S10_000_02_27\",\n",
    "                                                            )\n",
    "\n"
   ]
  },
  {
   "cell_type": "markdown",
   "id": "9d8ea0ab",
   "metadata": {},
   "source": [
    "Delete below once heading parametarization results are confirmed\n"
   ]
  },
  {
   "cell_type": "code",
   "execution_count": null,
   "id": "f4bb09c7",
   "metadata": {},
   "outputs": [
    {
     "data": {
      "text/plain": [
       "torch.Size([3, 64, 91, 2])"
      ]
     },
     "execution_count": 3,
     "metadata": {},
     "output_type": "execute_result"
    }
   ],
   "source": [
    "env.get_data_log_obj().pos_xy.shape"
   ]
  },
  {
   "cell_type": "code",
   "execution_count": 4,
   "id": "f72a4308",
   "metadata": {},
   "outputs": [
    {
     "data": {
      "text/plain": [
       "torch.Size([3, 64, 91, 2])"
      ]
     },
     "execution_count": 4,
     "metadata": {},
     "output_type": "execute_result"
    }
   ],
   "source": [
    "\n",
    "env.get_data_log_obj().vel_xy.shape"
   ]
  },
  {
   "cell_type": "code",
   "execution_count": 19,
   "id": "4e0eb50f",
   "metadata": {},
   "outputs": [
    {
     "data": {
      "text/plain": [
       "(tensor(-18.5400), tensor(10.1001))"
      ]
     },
     "execution_count": 19,
     "metadata": {},
     "output_type": "execute_result"
    }
   ],
   "source": [
    "ego_pos_x, ego_pos_y = env.get_data_log_obj().pos_xy[0][0][0]\n",
    "ego_pos_x, ego_pos_y"
   ]
  },
  {
   "cell_type": "code",
   "execution_count": 20,
   "id": "139e9f32",
   "metadata": {},
   "outputs": [
    {
     "data": {
      "text/plain": [
       "(tensor(0.6442), tensor(-0.3941))"
      ]
     },
     "execution_count": 20,
     "metadata": {},
     "output_type": "execute_result"
    }
   ],
   "source": [
    "ego_vel_x, ego_vel_y = env.get_data_log_obj().vel_xy[0][0][0]\n",
    "ego_vel_x, ego_vel_y"
   ]
  },
  {
   "cell_type": "code",
   "execution_count": 23,
   "id": "59b64b6f",
   "metadata": {},
   "outputs": [
    {
     "data": {
      "text/plain": [
       "-0.5490266883061817"
      ]
     },
     "execution_count": 23,
     "metadata": {},
     "output_type": "execute_result"
    }
   ],
   "source": [
    "ego_heading = math.atan2(ego_vel_y, ego_vel_x)\n",
    "ego_heading"
   ]
  },
  {
   "cell_type": "code",
   "execution_count": 24,
   "id": "add3e6c9",
   "metadata": {},
   "outputs": [
    {
     "data": {
      "text/plain": [
       "(tensor(-16.4580), tensor(0.8889))"
      ]
     },
     "execution_count": 24,
     "metadata": {},
     "output_type": "execute_result"
    }
   ],
   "source": [
    "other_posX, other_posY = env.get_data_log_obj().pos_xy[0][1][0]\n",
    "other_posX, other_posY"
   ]
  },
  {
   "cell_type": "code",
   "execution_count": 26,
   "id": "faef7b53",
   "metadata": {},
   "outputs": [
    {
     "data": {
      "text/plain": [
       "(tensor(9.2112), tensor(-2.0820))"
      ]
     },
     "execution_count": 26,
     "metadata": {},
     "output_type": "execute_result"
    }
   ],
   "source": [
    "(ego_pos_y-other_posY, ego_pos_x-other_posX)"
   ]
  },
  {
   "cell_type": "code",
   "execution_count": 25,
   "id": "00ed4272",
   "metadata": {},
   "outputs": [
    {
     "data": {
      "text/plain": [
       "1.7930937994103326"
      ]
     },
     "execution_count": 25,
     "metadata": {},
     "output_type": "execute_result"
    }
   ],
   "source": [
    "relative_loc = math.atan2(ego_pos_y-other_posY, ego_pos_x-other_posX)\n",
    "relative_loc"
   ]
  },
  {
   "cell_type": "code",
   "execution_count": 27,
   "id": "fc145182",
   "metadata": {},
   "outputs": [
    {
     "data": {
      "text/plain": [
       "2.3421204877165143"
      ]
     },
     "execution_count": 27,
     "metadata": {},
     "output_type": "execute_result"
    }
   ],
   "source": [
    "abs(ego_heading - relative_loc)"
   ]
  },
  {
   "cell_type": "code",
   "execution_count": 4,
   "id": "3d7da679",
   "metadata": {},
   "outputs": [],
   "source": [
    "\n",
    "\n",
    "# |Set root for GPUDrive import\n",
    "import os\n",
    "import sys\n",
    "from pathlib import Path\n",
    "\n",
    "from traitlets import default\n",
    "import pickle\n",
    "\n",
    "# Set working directory to the base directory 'gpudrive'\n",
    "working_dir = Path.cwd()\n",
    "while working_dir.name != 'gpudrive-CoDec':\n",
    "    working_dir = working_dir.parent\n",
    "    if working_dir == Path.home():\n",
    "        raise FileNotFoundError(\"Base directory 'gpudrive' not found\")\n",
    "os.chdir(working_dir)\n",
    "sys.path.append(str(working_dir))"
   ]
  },
  {
   "cell_type": "code",
   "execution_count": 5,
   "id": "5446313f",
   "metadata": {},
   "outputs": [],
   "source": [
    "srFile = \"examples/CoDec_Research/results/simulation_results/Set3_baseline_state_action_pairs_2025-05-13 15:33:50.425015.pickle\"\n",
    "with open(srFile, 'rb') as opn_file:\n",
    "    construal_action_likelihoods = pickle.load(opn_file)"
   ]
  },
  {
   "cell_type": "code",
   "execution_count": 20,
   "id": "7e001457",
   "metadata": {},
   "outputs": [
    {
     "data": {
      "text/plain": [
       "tensor([ 0.2009,  0.1762,  0.1555,  0.1809, -0.0006,  0.0000])"
      ]
     },
     "execution_count": 20,
     "metadata": {},
     "output_type": "execute_result"
    }
   ],
   "source": [
    "construal_action_likelihoods['tfrecord-00035-of-01000_85'][(4,)][0][0][0][0][0]\n"
   ]
  },
  {
   "cell_type": "code",
   "execution_count": 62,
   "id": "0d35d173",
   "metadata": {},
   "outputs": [
    {
     "data": {
      "text/plain": [
       "tensor([  0.0000,   0.1762,   0.1555,   7.3817, -13.8764,   0.0000])"
      ]
     },
     "execution_count": 62,
     "metadata": {},
     "output_type": "execute_result"
    }
   ],
   "source": [
    "construal_action_likelihoods['tfrecord-00035-of-01000_85'][(4,)][0][-30][0][0][0]"
   ]
  },
  {
   "cell_type": "markdown",
   "id": "e8c913e9",
   "metadata": {},
   "source": [
    "# TEMP"
   ]
  },
  {
   "cell_type": "code",
   "execution_count": 33,
   "id": "a1298149",
   "metadata": {},
   "outputs": [],
   "source": [
    "\n",
    "srFile = \"examples/CoDec_Research/results/simulation_results/Set3_baseline_state_action_pairs_2025-05-14 00:56:25.396045.pickle\"\n",
    "with open(srFile, 'rb') as opn_file:\n",
    "    test_data = pickle.load(opn_file)"
   ]
  },
  {
   "cell_type": "code",
   "execution_count": 34,
   "id": "1c4ab53a",
   "metadata": {},
   "outputs": [
    {
     "data": {
      "text/plain": [
       "dict_keys(['dict_structure', 'tfrecord-00101-of-01000_71', 'tfrecord-00183-of-01000_301', 'params'])"
      ]
     },
     "execution_count": 34,
     "metadata": {},
     "output_type": "execute_result"
    }
   ],
   "source": [
    "test_data.keys()\n"
   ]
  },
  {
   "cell_type": "code",
   "execution_count": null,
   "id": "c3c8bb83",
   "metadata": {},
   "outputs": [
    {
     "data": {
      "text/plain": [
       "dict_keys([0, 1, 2])"
      ]
     },
     "execution_count": 35,
     "metadata": {},
     "output_type": "execute_result"
    },
    {
     "ename": "",
     "evalue": "",
     "output_type": "error",
     "traceback": [
      "\u001b[1;31mThe Kernel crashed while executing code in the current cell or a previous cell. \n",
      "\u001b[1;31mPlease review the code in the cell(s) to identify a possible cause of the failure. \n",
      "\u001b[1;31mClick <a href='https://aka.ms/vscodeJupyterKernelCrash'>here</a> for more info. \n",
      "\u001b[1;31mView Jupyter <a href='command:jupyter.viewOutput'>log</a> for further details."
     ]
    }
   ],
   "source": [
    "test_data['tfrecord-00101-of-01000_71'][(0,)].keys()"
   ]
  },
  {
   "cell_type": "code",
   "execution_count": null,
   "id": "39f7bae7",
   "metadata": {},
   "outputs": [],
   "source": [
    "srFile = \"/mnt/d/Data/Set3_baseline_state_action_pairs_2025-05-13 15:33:50.425015.pickle\"\n",
    "with open(srFile, 'rb') as opn_file:\n",
    "    test_data = pickle.load(opn_file)"
   ]
  },
  {
   "cell_type": "code",
   "execution_count": null,
   "id": "510790f5",
   "metadata": {},
   "outputs": [],
   "source": [
    "srFile = \"examples/CoDec_Research/results/simulation_results/Set3_construal_action_likelihoods_ego_distance0.5_cardinality1.tsv\"\n",
    "with open(srFile, 'rb') as opn_file:\n",
    "    test_data = pickle.load(opn_file)"
   ]
  }
 ],
 "metadata": {
  "kernelspec": {
   "display_name": "gpuDrive",
   "language": "python",
   "name": "python3"
  },
  "language_info": {
   "codemirror_mode": {
    "name": "ipython",
    "version": 3
   },
   "file_extension": ".py",
   "mimetype": "text/x-python",
   "name": "python",
   "nbconvert_exporter": "python",
   "pygments_lexer": "ipython3",
   "version": "3.12.3"
  }
 },
 "nbformat": 4,
 "nbformat_minor": 5
}
