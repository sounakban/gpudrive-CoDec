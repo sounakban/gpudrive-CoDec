{
 "cells": [
  {
   "cell_type": "code",
   "execution_count": null,
   "id": "708a583b",
   "metadata": {},
   "outputs": [
    {
     "ename": "RuntimeError",
     "evalue": "module compiled against ABI version 0x1000009 but this version of numpy is 0x2000000",
     "output_type": "error",
     "traceback": [
      "\u001b[31m---------------------------------------------------------------------------\u001b[39m",
      "\u001b[31mRuntimeError\u001b[39m                              Traceback (most recent call last)",
      "\u001b[31mRuntimeError\u001b[39m: module compiled against ABI version 0x1000009 but this version of numpy is 0x2000000"
     ]
    },
    {
     "ename": "RuntimeError",
     "evalue": "module compiled against ABI version 0x1000009 but this version of numpy is 0x2000000",
     "output_type": "error",
     "traceback": [
      "\u001b[31m---------------------------------------------------------------------------\u001b[39m",
      "\u001b[31mRuntimeError\u001b[39m                              Traceback (most recent call last)",
      "\u001b[31mRuntimeError\u001b[39m: module compiled against ABI version 0x1000009 but this version of numpy is 0x2000000"
     ]
    },
    {
     "name": "stderr",
     "output_type": "stream",
     "text": [
      "2025-05-08 15:37:34.390068: E external/local_xla/xla/stream_executor/cuda/cuda_fft.cc:467] Unable to register cuFFT factory: Attempting to register factory for plugin cuFFT when one has already been registered\n",
      "WARNING: All log messages before absl::InitializeLog() is called are written to STDERR\n",
      "E0000 00:00:1746733054.447670   30927 cuda_dnn.cc:8579] Unable to register cuDNN factory: Attempting to register factory for plugin cuDNN when one has already been registered\n",
      "E0000 00:00:1746733054.472165   30927 cuda_blas.cc:1407] Unable to register cuBLAS factory: Attempting to register factory for plugin cuBLAS when one has already been registered\n",
      "W0000 00:00:1746733054.604785   30927 computation_placer.cc:177] computation placer already registered. Please check linkage and avoid linking the same target more than once.\n",
      "W0000 00:00:1746733054.604836   30927 computation_placer.cc:177] computation placer already registered. Please check linkage and avoid linking the same target more than once.\n",
      "W0000 00:00:1746733054.604837   30927 computation_placer.cc:177] computation placer already registered. Please check linkage and avoid linking the same target more than once.\n",
      "W0000 00:00:1746733054.604839   30927 computation_placer.cc:177] computation placer already registered. Please check linkage and avoid linking the same target more than once.\n"
     ]
    },
    {
     "ename": "RuntimeError",
     "evalue": "module compiled against ABI version 0x1000009 but this version of numpy is 0x2000000",
     "output_type": "error",
     "traceback": [
      "\u001b[31m---------------------------------------------------------------------------\u001b[39m",
      "\u001b[31mRuntimeError\u001b[39m                              Traceback (most recent call last)",
      "\u001b[31mRuntimeError\u001b[39m: module compiled against ABI version 0x1000009 but this version of numpy is 0x2000000"
     ]
    }
   ],
   "source": [
    "from copy import deepcopy\n",
    "from functools import cache\n",
    "from os import listdir\n",
    "import json\n",
    "import pickle\n",
    "from datetime import datetime\n",
    "from functools import partial\n",
    "\n",
    "from scipy.special import softmax\n",
    "import numpy as np\n",
    "import math\n",
    "from itertools import combinations\n",
    "\n",
    "from typing import Any, List, Tuple\n",
    "import time\n",
    "\n",
    "import torch\n",
    "import dataclasses\n",
    "\n",
    "\n",
    "# |Set root for GPUDrive import\n",
    "import os\n",
    "import sys\n",
    "from pathlib import Path\n",
    "\n",
    "# Set working directory to the base directory 'gpudrive'\n",
    "working_dir = Path.cwd()\n",
    "while working_dir.name != 'gpudrive-CoDec':\n",
    "    working_dir = working_dir.parent\n",
    "    if working_dir == Path.home():\n",
    "        raise FileNotFoundError(\"Base directory 'gpudrive' not found\")\n",
    "os.chdir(working_dir)\n",
    "sys.path.append(str(working_dir))\n",
    "\n",
    "\n",
    "# |GPUDrive imports\n",
    "from gpudrive.utils.config import load_config\n",
    "from examples.CoDec_Research.code.simulation.construal_main import generate_baseline_data, generate_selected_construal_traj, \\\n",
    "                                                                    get_constral_heurisrtic_values, generate_all_construal_trajnval\n",
    "from examples.CoDec_Research.code.gpuDrive_utils import get_gpuDrive_vars\n",
    "from examples.CoDec_Research.code.analysis.evaluate_construal_actions import evaluate_construals, get_best_construals_likelihood\n",
    "\n"
   ]
  },
  {
   "cell_type": "code",
   "execution_count": null,
   "id": "3402f1fa",
   "metadata": {},
   "outputs": [],
   "source": [
    "# |Set scenario path\n",
    "dataset_path = 'data/processed/construal'\n",
    "\n",
    "# |Model Config (on which model was trained)\n",
    "training_config = load_config(\"examples/experimental/config/reliable_agents_params\")\n",
    "\n",
    "# |Set simulator config\n",
    "max_agents = training_config.max_controlled_agents   # Get total vehicle count\n",
    "training_config.max_controlled_agents = 1    # Control only the first vehicle in the environment\n",
    "num_parallel_envs = 15\n",
    "total_envs = 15\n",
    "device = \"cpu\" # cpu just because we're in a notebook\n",
    "\n",
    "\n",
    "\n",
    "\n",
    "\n",
    "### Instantiate Variables ###\n",
    "\n",
    "env_config, train_loader, env, env_multi_agent, sim_agent = get_gpuDrive_vars(\n",
    "                                                                                training_config = training_config,\n",
    "                                                                                device = device,\n",
    "                                                                                num_parallel_envs = num_parallel_envs,\n",
    "                                                                                dataset_path = dataset_path,\n",
    "                                                                                max_agents = max_agents,\n",
    "                                                                                total_envs = total_envs,\n",
    "                                                                                sim_agent_path= \"daphne-cornelisse/policy_S10_000_02_27\",\n",
    "                                                                            )"
   ]
  },
  {
   "cell_type": "code",
   "execution_count": null,
   "id": "b16d696b",
   "metadata": {},
   "outputs": [],
   "source": [
    "### Support Functions ###\n",
    "\n",
    "# |Function to extract filename from path\n",
    "env_path2name = lambda path: path.split(\"/\")[-1].split(\".\")[0]\n",
    "\n",
    "# |Function to compute eucledian distance given two points\n",
    "euclidean_distance = lambda point1, point2: math.sqrt(sum([(a - b) ** 2 for a, b in zip(point1, point2)]))\n",
    "\n",
    "\n",
    "\n",
    "### Distance from ego ###\n",
    "def get_construal_veh_distance_ego(env: GPUDriveConstrualEnv):\n",
    "    '''\n",
    "    Get the distance of each vehicle (or average) in the construal to the ego vehicle\n",
    "\n",
    "    Args:\n",
    "        env: The environment object\n",
    "\n",
    "    Returns:\n",
    "        dict: The average distance or a list of distances from the ego vehicle to each vehicle in the construal\n",
    "    '''\n",
    "    curr_data_batch = [env_path2name(env_path_) for env_path_ in env.data_batch]\n",
    "    # |Populate dictionary with all relevant information\n",
    "    info_dict = dict()\n",
    "    for env_num, env_name in enumerate(curr_data_batch):\n",
    "        info_dict[env_name] = dict()\n",
    "        info_dict[env_name]['ego_index'] = torch.where(env.cont_agent_mask[env_num])[0].item()\n",
    "        info_dict[env_name]['construal_indices'] = construal_indices[env_name]\n",
    "    \n",
    "    # |Get all vehicle distances\n",
    "    all_pos = env.get_data_log_obj().pos_xy\n",
    "    distance_dict = dict()\n",
    "\n",
    "    for env_num, env_name in enumerate(curr_data_batch):\n",
    "        distance_dict[env_name] = dict()\n",
    "        all_distances = [euclidean_distance(all_pos[env_num][info_dict[env_name]['ego_index']][timestep_].cpu().numpy(),\n",
    "                                            all_pos[env_num][veh_indx_][timestep_].cpu().numpy()) \n",
    "                            for veh_indx_ in range(len(all_pos[env_num]))\n",
    "                            for timestep_ in range(len(all_pos[env_num][veh_indx_]))]\n",
    "              \n",
    "        if normalize:\n",
    "            #2# |Normalize distances to [0,1] using min-max scaling \n",
    "            #2# |Multiplied by -1 as distance is a penalty term, greater values are associated with higher penalty\n",
    "            all_distances = -1*( (np.array(all_distances) - np.min(all_distances)) / (np.max(all_distances) - np.min(all_distances)) )\n",
    "\n",
    "        for curr_indices in info_dict[env_name]['construal_indices']:\n",
    "            distance_dict[env_name][curr_indices] = [all_distances[i] for i in curr_indices]\n",
    "            if average:\n",
    "                if len(distance_dict[env_name][curr_indices]) > 0:\n",
    "                    distance_dict[env_name][curr_indices] = sum(distance_dict[env_name][curr_indices])/len(distance_dict[env_name][curr_indices])\n",
    "                else:\n",
    "                    distance_dict[env_name][curr_indices] = 0\n",
    "                    \n",
    "    return distance_dict\n"
   ]
  },
  {
   "cell_type": "code",
   "execution_count": null,
   "id": "d1d6c40b",
   "metadata": {},
   "outputs": [],
   "source": [
    "### Main Code ###\n"
   ]
  }
 ],
 "metadata": {
  "kernelspec": {
   "display_name": "gpuDrive",
   "language": "python",
   "name": "python3"
  },
  "language_info": {
   "codemirror_mode": {
    "name": "ipython",
    "version": 3
   },
   "file_extension": ".py",
   "mimetype": "text/x-python",
   "name": "python",
   "nbconvert_exporter": "python",
   "pygments_lexer": "ipython3",
   "version": "3.12.3"
  }
 },
 "nbformat": 4,
 "nbformat_minor": 5
}
