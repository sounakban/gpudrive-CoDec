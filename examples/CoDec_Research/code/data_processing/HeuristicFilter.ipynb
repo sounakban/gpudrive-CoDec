{
 "cells": [
  {
   "cell_type": "markdown",
   "id": "9cc72ce0",
   "metadata": {},
   "source": [
    "This file contains code that ranks scenes based on the riskiness of the trajecotiry of SDC vehicle in the scenes.\n",
    "The riskiness is measured in terms of minimum distance (over the course of the episode) of the SDC vehicle from a \n",
    "    vehicle with a high score on a certain heuristic."
   ]
  },
  {
   "cell_type": "code",
   "execution_count": 1,
   "id": "96fbdb74",
   "metadata": {},
   "outputs": [],
   "source": [
    "# Set working directory to the base directory 'gpudrive'\n",
    "import os\n",
    "import sys\n",
    "from pathlib import Path\n",
    "\n",
    "working_dir = Path.cwd()\n",
    "while working_dir.name != 'gpudrive-CoDec':\n",
    "    working_dir = working_dir.parent\n",
    "    if working_dir == Path.home():\n",
    "        raise FileNotFoundError(\"Base directory 'gpudrive' not found\")\n",
    "os.chdir(working_dir)\n",
    "sys.path.append(str(working_dir))"
   ]
  },
  {
   "cell_type": "code",
   "execution_count": 2,
   "id": "2847e3c5",
   "metadata": {},
   "outputs": [
    {
     "ename": "RuntimeError",
     "evalue": "module compiled against ABI version 0x1000009 but this version of numpy is 0x2000000",
     "output_type": "error",
     "traceback": [
      "\u001b[31m---------------------------------------------------------------------------\u001b[39m",
      "\u001b[31mRuntimeError\u001b[39m                              Traceback (most recent call last)",
      "\u001b[31mRuntimeError\u001b[39m: module compiled against ABI version 0x1000009 but this version of numpy is 0x2000000"
     ]
    },
    {
     "ename": "RuntimeError",
     "evalue": "module compiled against ABI version 0x1000009 but this version of numpy is 0x2000000",
     "output_type": "error",
     "traceback": [
      "\u001b[31m---------------------------------------------------------------------------\u001b[39m",
      "\u001b[31mRuntimeError\u001b[39m                              Traceback (most recent call last)",
      "\u001b[31mRuntimeError\u001b[39m: module compiled against ABI version 0x1000009 but this version of numpy is 0x2000000"
     ]
    },
    {
     "name": "stderr",
     "output_type": "stream",
     "text": [
      "2025-06-25 15:20:42.472692: E external/local_xla/xla/stream_executor/cuda/cuda_fft.cc:467] Unable to register cuFFT factory: Attempting to register factory for plugin cuFFT when one has already been registered\n",
      "WARNING: All log messages before absl::InitializeLog() is called are written to STDERR\n",
      "E0000 00:00:1750879242.487347   75073 cuda_dnn.cc:8579] Unable to register cuDNN factory: Attempting to register factory for plugin cuDNN when one has already been registered\n",
      "E0000 00:00:1750879242.492709   75073 cuda_blas.cc:1407] Unable to register cuBLAS factory: Attempting to register factory for plugin cuBLAS when one has already been registered\n",
      "W0000 00:00:1750879242.508223   75073 computation_placer.cc:177] computation placer already registered. Please check linkage and avoid linking the same target more than once.\n",
      "W0000 00:00:1750879242.508255   75073 computation_placer.cc:177] computation placer already registered. Please check linkage and avoid linking the same target more than once.\n",
      "W0000 00:00:1750879242.508257   75073 computation_placer.cc:177] computation placer already registered. Please check linkage and avoid linking the same target more than once.\n",
      "W0000 00:00:1750879242.508258   75073 computation_placer.cc:177] computation placer already registered. Please check linkage and avoid linking the same target more than once.\n"
     ]
    },
    {
     "ename": "RuntimeError",
     "evalue": "module compiled against ABI version 0x1000009 but this version of numpy is 0x2000000",
     "output_type": "error",
     "traceback": [
      "\u001b[31m---------------------------------------------------------------------------\u001b[39m",
      "\u001b[31mRuntimeError\u001b[39m                              Traceback (most recent call last)",
      "\u001b[31mRuntimeError\u001b[39m: module compiled against ABI version 0x1000009 but this version of numpy is 0x2000000"
     ]
    }
   ],
   "source": [
    "from examples.CoDec_Research.code.construals.heuristic_functions import *"
   ]
  },
  {
   "cell_type": "code",
   "execution_count": 3,
   "id": "7f0424cd",
   "metadata": {},
   "outputs": [
    {
     "name": "stdout",
     "output_type": "stream",
     "text": [
      "Using moving vehicle masks from file: examples/CoDec_Research/results/simulation_results/temp/Set1V2_movVeh_masks_2025-05-14 19_21_06.319526.pickle\n",
      "Initialized default environment\n"
     ]
    }
   ],
   "source": [
    "training_config = load_config(\"examples/experimental/config/reliable_agents_params\")\n",
    "# dataset_path = \"data/processed/gitIgnore_data/training/\"\n",
    "dataset_path = \"data/processed/construal/Set1V2/\"\n",
    "intermediate_results_path = \"examples/CoDec_Research/results/simulation_results/temp/\"\n",
    "\n",
    "moving_veh_masks = get_mov_veh_masks(\n",
    "                                    training_config=training_config, \n",
    "                                    device=\"cpu\", \n",
    "                                    dataset_path=dataset_path,\n",
    "                                    max_agents=64,\n",
    "                                    result_file_loc=intermediate_results_path,\n",
    "                                    processID=\"HeuristicFilter\",\n",
    "                                    save_data = False,\n",
    "                                    )\n",
    "moving_veh_masks = {env_path2name(k): v for k, v in moving_veh_masks.items()}\n",
    "\n",
    "training_config['max_controlled_agents'] = 1\n",
    "env_config, train_loader, env, sim_agent = get_gpuDrive_vars(\n",
    "                                                            training_config=training_config,\n",
    "                                                            device=\"cpu\",\n",
    "                                                            num_parallel_envs=10,\n",
    "                                                            dataset_path=dataset_path,\n",
    "                                                            total_envs=10,\n",
    "                                                            sim_agent_path=\"daphne-cornelisse/policy_S10_000_02_27\",\n",
    "                                                            )"
   ]
  },
  {
   "cell_type": "code",
   "execution_count": 4,
   "id": "d774d74c",
   "metadata": {},
   "outputs": [],
   "source": [
    "sublist_to_tuples = lambda x: [tuple(sublist) for sublist in x]\n",
    "construal_indcs = {k: sublist_to_tuples(torch.nonzero(v).tolist()) for k, v in moving_veh_masks.items()}"
   ]
  },
  {
   "cell_type": "code",
   "execution_count": 5,
   "id": "1af3aa98",
   "metadata": {},
   "outputs": [],
   "source": [
    "heading_dev_dict = {}"
   ]
  },
  {
   "cell_type": "code",
   "execution_count": 6,
   "id": "4c99964f",
   "metadata": {},
   "outputs": [
    {
     "name": "stderr",
     "output_type": "stream",
     "text": [
      "Processing Waymo batches: 100%|\u001b[34m██████████\u001b[0m| 1/1 [00:00<00:00,  2.07it/s]\n"
     ]
    }
   ],
   "source": [
    "# |Loop through all batches\n",
    "for batch in tqdm(train_loader, desc=f\"Processing Waymo batches\",\n",
    "                    total=len(train_loader), colour=\"blue\"):\n",
    "    # |BATCHING LOGIC: https://github.com/Emerge-Lab/gpudrive/blob/bd618895acde90d8c7d880b32d87942efe42e21d/examples/experimental/eval_utils.py#L316\n",
    "    # |Update simulator with the new batch of data\n",
    "    env.swap_data_batch(batch)\n",
    "    heading_dev_dict.update(get_construal_dev_ego_heading(env, construal_indcs))"
   ]
  },
  {
   "cell_type": "code",
   "execution_count": 7,
   "id": "572dd8d9",
   "metadata": {},
   "outputs": [
    {
     "data": {
      "text/plain": [
       "{'tfrecord-00034-of-00150_102': {(0,): np.float64(-0.008847544292945726),\n",
       "  (1,): np.float64(-3.132717311503218),\n",
       "  (2,): np.float64(-0.04593622368180372),\n",
       "  (3,): np.float64(-0.019223669247831216),\n",
       "  (4,): np.float64(-2.9934107086132116),\n",
       "  (5,): np.float64(-0.42589082879409246),\n",
       "  (6,): np.float64(-0.0018299717639873227),\n",
       "  (7,): np.float64(-3.1401938936495717),\n",
       "  (9,): np.float64(-0.02230424312786441),\n",
       "  (10,): np.float64(-2.9355425412281013),\n",
       "  (11,): np.float64(-3.0903024672585735),\n",
       "  (12,): np.float64(-2.616071477859709),\n",
       "  (13,): np.float64(-0.9408046125406775),\n",
       "  (14,): np.float64(-0.31506320427687856),\n",
       "  (15,): np.float64(-0.17599298360279972),\n",
       "  (16,): np.float64(-0.21365146134541868)},\n",
       " 'tfrecord-00034-of-00150_154': {(0,): np.float64(-1.5184234346167798),\n",
       "  (1,): np.float64(-3.2532758321731734),\n",
       "  (2,): np.float64(-3.542040372723984),\n",
       "  (5,): np.float64(-0.19827717054259075),\n",
       "  (6,): np.float64(-2.825758644971167),\n",
       "  (7,): np.float64(-3.046814460765507)},\n",
       " 'tfrecord-00070-of-00150_182': {(0,): np.float64(-2.190196225931153),\n",
       "  (2,): np.float64(-3.439877269615306),\n",
       "  (3,): np.float64(-2.363885332942984),\n",
       "  (4,): np.float64(-0.8204177693639987)},\n",
       " 'tfrecord-00124-of-00150_62': {(0,): np.float64(-0.5490266883061817),\n",
       "  (2,): np.float64(-2.8991656972605506),\n",
       "  (3,): np.float64(-2.6992528727695975),\n",
       "  (4,): np.float64(-0.011740929162129543),\n",
       "  (5,): np.float64(-3.128751281027018),\n",
       "  (6,): np.float64(-0.28232807420973716),\n",
       "  (7,): np.float64(-0.1471710147586247),\n",
       "  (8,): np.float64(-0.0008267992900020671),\n",
       "  (10,): np.float64(-0.40705364808132316),\n",
       "  (11,): np.float64(-2.8881063460140344),\n",
       "  (13,): np.float64(-1.6707133728158374),\n",
       "  (14,): np.float64(-2.928035079775446),\n",
       "  (15,): np.float64(-0.1133082886474292),\n",
       "  (17,): np.float64(-1.3901167396252994),\n",
       "  (18,): np.float64(-6.157664630412896e-05),\n",
       "  (19,): np.float64(-2.972066308434486),\n",
       "  (21,): np.float64(-0.08401422348089815),\n",
       "  (22,): np.float64(-0.08983909002630747),\n",
       "  (23,): np.float64(-2.7971480974239924),\n",
       "  (27,): np.float64(-0.06145072710949556),\n",
       "  (29,): np.float64(-0.04416087781673028),\n",
       "  (31,): np.float64(-2.8571301509496103),\n",
       "  (35,): np.float64(-3.0156803382335235),\n",
       "  (37,): np.float64(-2.669566688598245),\n",
       "  (41,): np.float64(-2.77310714178678),\n",
       "  (42,): np.float64(-0.6392748937726884),\n",
       "  (45,): np.float64(-2.590304999022478),\n",
       "  (46,): np.float64(-2.1676370005086296),\n",
       "  (48,): np.float64(-3.4424192507211617),\n",
       "  (49,): np.float64(-2.0480602698102386),\n",
       "  (50,): np.float64(-3.0516079988525875),\n",
       "  (51,): np.float64(-3.2941076565638387),\n",
       "  (53,): np.float64(-1.4274054707826007),\n",
       "  (54,): np.float64(-0.6014787324626389),\n",
       "  (56,): np.float64(-2.962882008520015),\n",
       "  (57,): np.float64(-0.2981295892167108),\n",
       "  (58,): np.float64(-0.8638831275767298),\n",
       "  (59,): np.float64(-0.49609686565367644),\n",
       "  (61,): np.float64(-3.2073074193669924),\n",
       "  (62,): np.float64(-0.3235430183560615),\n",
       "  (63,): np.float64(-2.6394787146215903)},\n",
       " 'tfrecord-00133-of-00150_121': {(0,): np.float64(-1.552184227781214),\n",
       "  (1,): np.float64(-3.26933318663635),\n",
       "  (2,): np.float64(-0.021177922947779093),\n",
       "  (3,): np.float64(-3.111549181868821),\n",
       "  (4,): np.float64(-0.005976539547799753),\n",
       "  (5,): np.float64(-0.001575003391894203),\n",
       "  (6,): np.float64(-3.092703466047561),\n",
       "  (7,): np.float64(-2.879483478053653),\n",
       "  (8,): np.float64(-3.0039957784506166),\n",
       "  (10,): np.float64(-0.6793683151590324),\n",
       "  (13,): np.float64(-0.0003799742679910789),\n",
       "  (16,): np.float64(-3.130652933920959),\n",
       "  (17,): np.float64(-2.7599072186736278),\n",
       "  (20,): np.float64(-3.146498135556323),\n",
       "  (21,): np.float64(-0.33228854680411213),\n",
       "  (22,): np.float64(-0.16953096120635514)},\n",
       " 'tfrecord-00136-of-00150_130': {(0,): np.float64(-1.5689564639074838),\n",
       "  (1,): np.float64(-3.470631635553976),\n",
       "  (2,): np.float64(-0.16562037858620493),\n",
       "  (3,): np.float64(-3.2246285176846925),\n",
       "  (4,): np.float64(-3.142726957653367),\n",
       "  (5,): np.float64(-0.09244538249327716)},\n",
       " 'tfrecord-00136-of-00150_6': {(0,): np.float64(-1.566612873447817),\n",
       "  (1,): np.float64(-2.3992341997850515),\n",
       "  (2,): np.float64(-0.13940172229733405),\n",
       "  (3,): np.float64(-0.08038676444600457),\n",
       "  (4,): np.float64(-0.005431093379202334),\n",
       "  (5,): np.float64(-3.140917139230556),\n",
       "  (6,): np.float64(-0.20844098438086012)},\n",
       " 'tfrecord-00137-of-00150_154': {(0,): np.float64(-3.1411368165588116),\n",
       "  (1,): np.float64(-0.1467463847741426),\n",
       "  (2,): np.float64(-0.045133620971468336),\n",
       "  (3,): np.float64(-2.988862689322887),\n",
       "  (4,): np.float64(-6.0843356744311),\n",
       "  (5,): np.float64(-6.163150301582295),\n",
       "  (6,): np.float64(-3.098960910874329),\n",
       "  (7,): np.float64(-3.1628313144687836),\n",
       "  (10,): np.float64(-3.2071739245471913)},\n",
       " 'tfrecord-00142-of-00150_36': {(0,): np.float64(-1.2001105028709613),\n",
       "  (1,): np.float64(-3.5648951761408303),\n",
       "  (2,): np.float64(-3.0617716280016576),\n",
       "  (3,): np.float64(-0.10665832908916384),\n",
       "  (4,): np.float64(-3.2086448532748455),\n",
       "  (5,): np.float64(-0.12971208579239346)},\n",
       " 'tfrecord-00145-of-00150_75': {(0,): np.float64(-1.544460245505846),\n",
       "  (1,): np.float64(-0.04197707312986587),\n",
       "  (2,): np.float64(-0.00459891191371109),\n",
       "  (3,): np.float64(-0.003365071651371787),\n",
       "  (4,): np.float64(-0.004561282318058968),\n",
       "  (5,): np.float64(-3.194429596637882),\n",
       "  (6,): np.float64(-0.13995887555182351),\n",
       "  (7,): np.float64(-3.1507156456852194),\n",
       "  (8,): np.float64(-3.1353979990242915),\n",
       "  (9,): np.float64(-3.1947744897741606),\n",
       "  (10,): np.float64(-2.9840502138691694),\n",
       "  (11,): np.float64(-2.629022432162709),\n",
       "  (12,): np.float64(-2.3990775391129517),\n",
       "  (13,): np.float64(-2.401124916907285),\n",
       "  (14,): np.float64(-3.0869558009241915),\n",
       "  (15,): np.float64(-0.014760647037618257),\n",
       "  (16,): np.float64(-0.9918731639679436)}}"
      ]
     },
     "execution_count": 7,
     "metadata": {},
     "output_type": "execute_result"
    }
   ],
   "source": [
    "heading_dev_dict"
   ]
  },
  {
   "cell_type": "code",
   "execution_count": 13,
   "id": "6fcdad58",
   "metadata": {},
   "outputs": [
    {
     "data": {
      "text/plain": [
       "dict_keys(['tfrecord-00034-of-00150_102', 'tfrecord-00034-of-00150_154', 'tfrecord-00070-of-00150_182', 'tfrecord-00124-of-00150_62', 'tfrecord-00133-of-00150_121', 'tfrecord-00136-of-00150_130', 'tfrecord-00136-of-00150_6', 'tfrecord-00137-of-00150_154', 'tfrecord-00142-of-00150_36', 'tfrecord-00145-of-00150_75'])"
      ]
     },
     "execution_count": 13,
     "metadata": {},
     "output_type": "execute_result"
    }
   ],
   "source": [
    "moving_veh_masks.keys()"
   ]
  },
  {
   "cell_type": "code",
   "execution_count": 14,
   "id": "65d02192",
   "metadata": {},
   "outputs": [
    {
     "data": {
      "text/plain": [
       "['data/processed/construal/Set1V2/tfrecord-00034-of-00150_102.json',\n",
       " 'data/processed/construal/Set1V2/tfrecord-00034-of-00150_154.json',\n",
       " 'data/processed/construal/Set1V2/tfrecord-00070-of-00150_182.json',\n",
       " 'data/processed/construal/Set1V2/tfrecord-00124-of-00150_62.json',\n",
       " 'data/processed/construal/Set1V2/tfrecord-00133-of-00150_121.json',\n",
       " 'data/processed/construal/Set1V2/tfrecord-00136-of-00150_130.json',\n",
       " 'data/processed/construal/Set1V2/tfrecord-00136-of-00150_6.json',\n",
       " 'data/processed/construal/Set1V2/tfrecord-00137-of-00150_154.json',\n",
       " 'data/processed/construal/Set1V2/tfrecord-00142-of-00150_36.json',\n",
       " 'data/processed/construal/Set1V2/tfrecord-00145-of-00150_75.json']"
      ]
     },
     "execution_count": 14,
     "metadata": {},
     "output_type": "execute_result"
    }
   ],
   "source": [
    "env.data_batch"
   ]
  },
  {
   "cell_type": "code",
   "execution_count": null,
   "id": "96309e2a",
   "metadata": {},
   "outputs": [],
   "source": []
  }
 ],
 "metadata": {
  "kernelspec": {
   "display_name": "gpuDrive",
   "language": "python",
   "name": "python3"
  },
  "language_info": {
   "codemirror_mode": {
    "name": "ipython",
    "version": 3
   },
   "file_extension": ".py",
   "mimetype": "text/x-python",
   "name": "python",
   "nbconvert_exporter": "python",
   "pygments_lexer": "ipython3",
   "version": "3.12.3"
  }
 },
 "nbformat": 4,
 "nbformat_minor": 5
}
