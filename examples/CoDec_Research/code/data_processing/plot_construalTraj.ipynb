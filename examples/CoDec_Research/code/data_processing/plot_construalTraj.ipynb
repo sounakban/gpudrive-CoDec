{
 "cells": [
  {
   "cell_type": "code",
   "execution_count": 1,
   "id": "89f29235",
   "metadata": {},
   "outputs": [
    {
     "ename": "RuntimeError",
     "evalue": "module compiled against ABI version 0x1000009 but this version of numpy is 0x2000000",
     "output_type": "error",
     "traceback": [
      "\u001b[31m---------------------------------------------------------------------------\u001b[39m",
      "\u001b[31mRuntimeError\u001b[39m                              Traceback (most recent call last)",
      "\u001b[31mRuntimeError\u001b[39m: module compiled against ABI version 0x1000009 but this version of numpy is 0x2000000"
     ]
    },
    {
     "ename": "RuntimeError",
     "evalue": "module compiled against ABI version 0x1000009 but this version of numpy is 0x2000000",
     "output_type": "error",
     "traceback": [
      "\u001b[31m---------------------------------------------------------------------------\u001b[39m",
      "\u001b[31mRuntimeError\u001b[39m                              Traceback (most recent call last)",
      "\u001b[31mRuntimeError\u001b[39m: module compiled against ABI version 0x1000009 but this version of numpy is 0x2000000"
     ]
    },
    {
     "name": "stderr",
     "output_type": "stream",
     "text": [
      "2025-05-08 03:21:44.787524: E external/local_xla/xla/stream_executor/cuda/cuda_fft.cc:467] Unable to register cuFFT factory: Attempting to register factory for plugin cuFFT when one has already been registered\n",
      "WARNING: All log messages before absl::InitializeLog() is called are written to STDERR\n",
      "E0000 00:00:1746688904.799532  430557 cuda_dnn.cc:8579] Unable to register cuDNN factory: Attempting to register factory for plugin cuDNN when one has already been registered\n",
      "E0000 00:00:1746688904.803376  430557 cuda_blas.cc:1407] Unable to register cuBLAS factory: Attempting to register factory for plugin cuBLAS when one has already been registered\n",
      "W0000 00:00:1746688904.812626  430557 computation_placer.cc:177] computation placer already registered. Please check linkage and avoid linking the same target more than once.\n",
      "W0000 00:00:1746688904.812650  430557 computation_placer.cc:177] computation placer already registered. Please check linkage and avoid linking the same target more than once.\n",
      "W0000 00:00:1746688904.812651  430557 computation_placer.cc:177] computation placer already registered. Please check linkage and avoid linking the same target more than once.\n",
      "W0000 00:00:1746688904.812652  430557 computation_placer.cc:177] computation placer already registered. Please check linkage and avoid linking the same target more than once.\n"
     ]
    },
    {
     "ename": "RuntimeError",
     "evalue": "module compiled against ABI version 0x1000009 but this version of numpy is 0x2000000",
     "output_type": "error",
     "traceback": [
      "\u001b[31m---------------------------------------------------------------------------\u001b[39m",
      "\u001b[31mRuntimeError\u001b[39m                              Traceback (most recent call last)",
      "\u001b[31mRuntimeError\u001b[39m: module compiled against ABI version 0x1000009 but this version of numpy is 0x2000000"
     ]
    }
   ],
   "source": [
    "from copy import deepcopy\n",
    "from functools import cache\n",
    "from os import listdir\n",
    "import json\n",
    "import pickle\n",
    "from datetime import datetime\n",
    "from functools import partial\n",
    "\n",
    "from scipy.special import softmax\n",
    "import numpy as np\n",
    "import math\n",
    "from itertools import combinations\n",
    "\n",
    "from typing import Any, List, Tuple\n",
    "import time\n",
    "\n",
    "import torch\n",
    "import dataclasses\n",
    "\n",
    "\n",
    "# |Set root for GPUDrive import\n",
    "import os\n",
    "import sys\n",
    "from pathlib import Path\n",
    "\n",
    "from traitlets import default\n",
    "\n",
    "# Set working directory to the base directory 'gpudrive'\n",
    "working_dir = Path.cwd()\n",
    "while working_dir.name != 'gpudrive-CoDec':\n",
    "    working_dir = working_dir.parent\n",
    "    if working_dir == Path.home():\n",
    "        raise FileNotFoundError(\"Base directory 'gpudrive' not found\")\n",
    "os.chdir(working_dir)\n",
    "sys.path.append(str(working_dir))\n",
    "\n",
    "\n",
    "# |GPUDrive imports\n",
    "from gpudrive.utils.config import load_config\n",
    "from examples.CoDec_Research.code.simulation.construal_main import generate_baseline_data, generate_selected_construal_traj, \\\n",
    "                                                                    get_constral_heurisrtic_values, generate_all_construal_trajnval\n",
    "from examples.CoDec_Research.code.gpuDrive_utils import get_gpuDrive_vars\n",
    "from examples.CoDec_Research.code.analysis.evaluate_construal_actions import evaluate_construals, get_best_construals_likelihood\n",
    "\n"
   ]
  },
  {
   "cell_type": "code",
   "execution_count": null,
   "id": "17a909b0",
   "metadata": {},
   "outputs": [],
   "source": [
    "### Specify Environment Configuration ###\n",
    "\n",
    "# |Location to store simulation results\n",
    "out_dir = \"examples/CoDec_Research/results/simulation_results/Viz/\"\n",
    "simulation_results_files = [out_dir+fl_name for fl_name in listdir(out_dir)]\n",
    "\n",
    "# |Model Config (on which model was trained)\n",
    "training_config = load_config(\"examples/experimental/config/reliable_agents_params\")\n",
    "\n",
    "# |Set scenario path\n",
    "dataset_path = 'data/processed/construal'\n",
    "\n",
    "# |Set simulator config\n",
    "max_agents = training_config.max_controlled_agents   # Get total vehicle count\n",
    "num_parallel_envs = 1\n",
    "total_envs = 2\n",
    "device = \"cpu\" # cpu just because we're in a notebook\n",
    "# device = torch.device(\"cuda\" if torch.cuda.is_available() else \"cpu\")\n",
    "\n",
    "# |Set construal config\n",
    "construal_size = 1\n",
    "observed_agents_count = max_agents - 1      # Agents observed except self (used for vector sizes)\n",
    "sample_size_traj = 1                             # Number of samples to calculate expected utility of a construal\n",
    "\n",
    "# |Other changes to variables\n",
    "training_config.max_controlled_agents = 1    # Control only the first vehicle in the environment\n",
    "total_envs = min(total_envs, len(listdir(dataset_path)))\n",
    "\n",
    "\n",
    "### Instantiate Variables ###\n",
    "\n",
    "env_config, train_loader, env, env_multi_agent, sim_agent = get_gpuDrive_vars(\n",
    "                                                                                training_config = training_config,\n",
    "                                                                                device = device,\n",
    "                                                                                num_parallel_envs = num_parallel_envs,\n",
    "                                                                                dataset_path = dataset_path,\n",
    "                                                                                max_agents = max_agents,\n",
    "                                                                                total_envs = total_envs,\n",
    "                                                                                sim_agent_path= \"daphne-cornelisse/policy_S10_000_02_27\",\n",
    "                                                                            )\n"
   ]
  },
  {
   "cell_type": "code",
   "execution_count": null,
   "id": "3372632e",
   "metadata": {},
   "outputs": [
    {
     "name": "stderr",
     "output_type": "stream",
     "text": [
      "Processing Waymo batches:   0%|\u001b[34m          \u001b[0m| 0/2 [00:00<?, ?it/s]"
     ]
    },
    {
     "name": "stdout",
     "output_type": "stream",
     "text": [
      "Indices of all moving vehicles (by scene):  [(0, 1, 5, 9, 10, 42, 43)]\n",
      "\tsample  1\n",
      "\t\tStep: 89\n",
      "Processed mask(s):  ((0,),) , with value(s): [1.0]\n",
      "\tsample  1\n",
      "\t\tStep: 89\n",
      "Processed mask(s):  ((1,),) , with value(s): [1.0]\n",
      "\tsample  1\n",
      "\t\tStep: 89\n",
      "Processed mask(s):  ((5,),) , with value(s): [1.0]\n",
      "\tsample  1\n",
      "\t\tStep: 89\n",
      "Processed mask(s):  ((9,),) , with value(s): [1.0]\n",
      "\tsample  1\n",
      "\t\tStep: 89\n",
      "Processed mask(s):  ((10,),) , with value(s): [1.0]\n",
      "\tsample  1\n",
      "\t\tStep: 89\n",
      "Processed mask(s):  ((42,),) , with value(s): [1.0]\n",
      "\tsample  1\n",
      "\t\tStep: 89\n",
      "Processed mask(s):  ((43,),) , with value(s): [1.0]\n",
      "\tsample  1\n",
      "\t\tStep: 89"
     ]
    },
    {
     "name": "stderr",
     "output_type": "stream",
     "text": [
      "Processing Waymo batches:  50%|\u001b[34m█████     \u001b[0m| 1/2 [00:13<00:13, 13.39s/it]"
     ]
    },
    {
     "name": "stdout",
     "output_type": "stream",
     "text": [
      "\n",
      "Processed mask(s):  ((0, 1, 5, 9, 10, 42, 43),) , with value(s): [1.0]\n",
      "Indices of all moving vehicles (by scene):  [(0, 1, 2, 3, 4, 5, 7, 8, 9, 10, 11, 12, 13, 14, 15, 16, 17)]\n",
      "\tsample  1\n",
      "\t\tStep: 90\n",
      "Processed mask(s):  ((0,),) , with value(s): [1.0]\n",
      "\tsample  1\n",
      "\t\tStep: 90\n",
      "Processed mask(s):  ((1,),) , with value(s): [1.0]\n",
      "\tsample  1\n",
      "\t\tStep: 90\n",
      "Processed mask(s):  ((2,),) , with value(s): [1.0]\n",
      "\tsample  1\n",
      "\t\tStep: 90\n",
      "Processed mask(s):  ((3,),) , with value(s): [1.0]\n",
      "\tsample  1\n",
      "\t\tStep: 91\n",
      "Processed mask(s):  ((4,),) , with value(s): [0.0]\n",
      "\tsample  1\n",
      "\t\tStep: 90\n",
      "Processed mask(s):  ((5,),) , with value(s): [1.0]\n",
      "\tsample  1\n",
      "\t\tStep: 90\n",
      "Processed mask(s):  ((7,),) , with value(s): [1.0]\n",
      "\tsample  1\n",
      "\t\tStep: 91\n",
      "Processed mask(s):  ((8,),) , with value(s): [0.0]\n",
      "\tsample  1\n",
      "\t\tStep: 90\n",
      "Processed mask(s):  ((9,),) , with value(s): [1.0]\n",
      "\tsample  1\n",
      "\t\tStep: 90\n",
      "Processed mask(s):  ((10,),) , with value(s): [1.0]\n",
      "\tsample  1\n",
      "\t\tStep: 90\n",
      "Processed mask(s):  ((11,),) , with value(s): [1.0]\n",
      "\tsample  1\n",
      "\t\tStep: 90\n",
      "Processed mask(s):  ((12,),) , with value(s): [1.0]\n",
      "\tsample  1\n",
      "\t\tStep: 90\n",
      "Processed mask(s):  ((13,),) , with value(s): [1.0]\n",
      "\tsample  1\n",
      "\t\tStep: 91\n",
      "Processed mask(s):  ((14,),) , with value(s): [0.0]\n",
      "\tsample  1\n",
      "\t\tStep: 90\n",
      "Processed mask(s):  ((15,),) , with value(s): [1.0]\n",
      "\tsample  1\n",
      "\t\tStep: 90\n",
      "Processed mask(s):  ((16,),) , with value(s): [1.0]\n",
      "\tsample  1\n",
      "\t\tStep: 90\n",
      "Processed mask(s):  ((17,),) , with value(s): [1.0]\n",
      "\tsample  1\n",
      "\t\tStep: 90"
     ]
    },
    {
     "name": "stderr",
     "output_type": "stream",
     "text": [
      "Processing Waymo batches: 100%|\u001b[34m██████████\u001b[0m| 2/2 [00:39<00:00, 21.06s/it]"
     ]
    },
    {
     "name": "stdout",
     "output_type": "stream",
     "text": [
      "\n",
      "Processed mask(s):  ((0, 1, 2, 3, 4, 5, 7, 8, 9, 10, 11, 12, 13, 14, 15, 16, 17),) , with value(s): [1.0]\n"
     ]
    },
    {
     "name": "stderr",
     "output_type": "stream",
     "text": [
      "Processing Waymo batches: 100%|\u001b[34m██████████\u001b[0m| 2/2 [00:39<00:00, 19.91s/it]"
     ]
    },
    {
     "name": "stdout",
     "output_type": "stream",
     "text": [
      "Baseline data saved to:  examples/CoDec_Research/results/simulation_results/Viz/construal_vals_2025-05-08 03:22:26.257373.pickle\n",
      "Baseline data saved to:  examples/CoDec_Research/results/simulation_results/Viz/all_constr_obs_2025-05-08 03:22:26.257928.pickle\n",
      "Baseline data saved to:  examples/CoDec_Research/results/simulation_results/Viz/ground_truth_2025-05-08 03:22:26.268233.pickle\n"
     ]
    },
    {
     "name": "stderr",
     "output_type": "stream",
     "text": [
      "\n"
     ]
    }
   ],
   "source": [
    "\n",
    "### Generate Construed Agent Trajectories Through Simulator Sampling ###\n",
    "traj_obs = None\n",
    "\n",
    "2# |Check if saved data is available\n",
    "for srFile in simulation_results_files:\n",
    "    if \"all_constr_obs_\" in srFile:\n",
    "        with open(srFile, 'rb') as opn_file:\n",
    "            traj_obs = pickle.load(opn_file)\n",
    "    else:\n",
    "        continue\n",
    "\n",
    "if traj_obs is None:\n",
    "    default_values, traj_obs, ground_truth, veh_indx2ID = generate_all_construal_trajnval(\n",
    "                                                                                            out_dir=out_dir,\n",
    "                                                                                            sim_agent=sim_agent,\n",
    "                                                                                            observed_agents_count=observed_agents_count,\n",
    "                                                                                            construal_size=construal_size,\n",
    "                                                                                            num_parallel_envs=num_parallel_envs,\n",
    "                                                                                            max_agents=max_agents,\n",
    "                                                                                            sample_size=sample_size_traj,\n",
    "                                                                                            device=device,\n",
    "                                                                                            train_loader=train_loader,\n",
    "                                                                                            env=env,\n",
    "                                                                                            env_multi_agent=env_multi_agent,\n",
    "                                                                                            generate_animations=False,\n",
    "                                                                                        )"
   ]
  },
  {
   "cell_type": "code",
   "execution_count": 4,
   "id": "1f796b12",
   "metadata": {},
   "outputs": [
    {
     "data": {
      "text/plain": [
       "{'tfrecord-00101-of-01000_71': {0: 2892.0,\n",
       "  1: 2459.0,\n",
       "  5: 2464.0,\n",
       "  9: 2468.0,\n",
       "  10: 2469.0,\n",
       "  42: 2525.0,\n",
       "  43: 2526.0},\n",
       " 'tfrecord-00117-of-01000_240': {0: 963.0,\n",
       "  1: 597.0,\n",
       "  2: 598.0,\n",
       "  3: 600.0,\n",
       "  4: 601.0,\n",
       "  5: 604.0,\n",
       "  7: 607.0,\n",
       "  8: 609.0,\n",
       "  9: 613.0,\n",
       "  10: 615.0,\n",
       "  11: 616.0,\n",
       "  12: 617.0,\n",
       "  13: 618.0,\n",
       "  14: 619.0,\n",
       "  15: 620.0,\n",
       "  16: 623.0,\n",
       "  17: 624.0}}"
      ]
     },
     "execution_count": 4,
     "metadata": {},
     "output_type": "execute_result"
    }
   ],
   "source": [
    "veh_indx2ID"
   ]
  },
  {
   "cell_type": "code",
   "execution_count": 8,
   "id": "f75cd5d4",
   "metadata": {},
   "outputs": [
    {
     "name": "stdout",
     "output_type": "stream",
     "text": [
      "Scene: tfrecord-00101-of-01000_71, Construal: (0,), Sample: 0\n",
      "torch.Size([64, 89, 2])\n",
      "Scene: tfrecord-00101-of-01000_71, Construal: (1,), Sample: 0\n",
      "torch.Size([64, 89, 2])\n",
      "Scene: tfrecord-00101-of-01000_71, Construal: (5,), Sample: 0\n",
      "torch.Size([64, 89, 2])\n",
      "Scene: tfrecord-00101-of-01000_71, Construal: (9,), Sample: 0\n",
      "torch.Size([64, 89, 2])\n",
      "Scene: tfrecord-00101-of-01000_71, Construal: (10,), Sample: 0\n",
      "torch.Size([64, 89, 2])\n",
      "Scene: tfrecord-00101-of-01000_71, Construal: (42,), Sample: 0\n",
      "torch.Size([64, 89, 2])\n",
      "Scene: tfrecord-00101-of-01000_71, Construal: (43,), Sample: 0\n",
      "torch.Size([64, 89, 2])\n",
      "Scene: tfrecord-00101-of-01000_71, Construal: (0, 1, 5, 9, 10, 42, 43), Sample: 0\n",
      "torch.Size([64, 89, 2])\n",
      "Scene: tfrecord-00117-of-01000_240, Construal: (0,), Sample: 0\n",
      "torch.Size([64, 90, 2])\n",
      "Scene: tfrecord-00117-of-01000_240, Construal: (1,), Sample: 0\n",
      "torch.Size([64, 90, 2])\n",
      "Scene: tfrecord-00117-of-01000_240, Construal: (2,), Sample: 0\n",
      "torch.Size([64, 90, 2])\n",
      "Scene: tfrecord-00117-of-01000_240, Construal: (3,), Sample: 0\n",
      "torch.Size([64, 90, 2])\n",
      "Scene: tfrecord-00117-of-01000_240, Construal: (4,), Sample: 0\n",
      "torch.Size([64, 91, 2])\n",
      "Scene: tfrecord-00117-of-01000_240, Construal: (5,), Sample: 0\n",
      "torch.Size([64, 90, 2])\n",
      "Scene: tfrecord-00117-of-01000_240, Construal: (7,), Sample: 0\n",
      "torch.Size([64, 90, 2])\n",
      "Scene: tfrecord-00117-of-01000_240, Construal: (8,), Sample: 0\n",
      "torch.Size([64, 91, 2])\n",
      "Scene: tfrecord-00117-of-01000_240, Construal: (9,), Sample: 0\n",
      "torch.Size([64, 90, 2])\n",
      "Scene: tfrecord-00117-of-01000_240, Construal: (10,), Sample: 0\n",
      "torch.Size([64, 90, 2])\n",
      "Scene: tfrecord-00117-of-01000_240, Construal: (11,), Sample: 0\n",
      "torch.Size([64, 90, 2])\n",
      "Scene: tfrecord-00117-of-01000_240, Construal: (12,), Sample: 0\n",
      "torch.Size([64, 90, 2])\n",
      "Scene: tfrecord-00117-of-01000_240, Construal: (13,), Sample: 0\n",
      "torch.Size([64, 90, 2])\n",
      "Scene: tfrecord-00117-of-01000_240, Construal: (14,), Sample: 0\n",
      "torch.Size([64, 91, 2])\n",
      "Scene: tfrecord-00117-of-01000_240, Construal: (15,), Sample: 0\n",
      "torch.Size([64, 90, 2])\n",
      "Scene: tfrecord-00117-of-01000_240, Construal: (16,), Sample: 0\n",
      "torch.Size([64, 90, 2])\n",
      "Scene: tfrecord-00117-of-01000_240, Construal: (17,), Sample: 0\n",
      "torch.Size([64, 90, 2])\n",
      "Scene: tfrecord-00117-of-01000_240, Construal: (0, 1, 2, 3, 4, 5, 7, 8, 9, 10, 11, 12, 13, 14, 15, 16, 17), Sample: 0\n",
      "torch.Size([64, 90, 2])\n"
     ]
    }
   ],
   "source": [
    "# |Extract plot data from observations\n",
    "from gpudrive.datatypes.observation import PartnerObs\n",
    "\n",
    "\n",
    "plot_data = {}\n",
    "for scene, scene_obs in traj_obs.items():\n",
    "    if scene == 'dict_structure':\n",
    "        continue\n",
    "    plot_data[scene] = {}\n",
    "    for construal, construal_obs in scene_obs.items():\n",
    "        plot_data[scene][construal] = {}\n",
    "        for sample, sample_obs in construal_obs.items():\n",
    "            plot_data[scene][construal][sample] = {}\n",
    "            print(f\"Scene: {scene}, Construal: {construal}, Sample: {sample}\")\n",
    "            print(sample_obs.shape)"
   ]
  },
  {
   "cell_type": "code",
   "execution_count": 6,
   "id": "d6e1d9e4",
   "metadata": {},
   "outputs": [
    {
     "data": {
      "text/plain": [
       "dict_keys(['dict_structure', 'tfrecord-00101-of-01000_71', 'tfrecord-00117-of-01000_240'])"
      ]
     },
     "execution_count": 6,
     "metadata": {},
     "output_type": "execute_result"
    }
   ],
   "source": [
    "traj_obs.keys()"
   ]
  },
  {
   "cell_type": "markdown",
   "id": "c5c00d7c",
   "metadata": {},
   "source": [
    "# Server COnstrual Values"
   ]
  },
  {
   "cell_type": "code",
   "execution_count": null,
   "id": "0b1183e4",
   "metadata": {},
   "outputs": [],
   "source": [
    "srFile = \"examples/CoDec_Research/results/simulation_results/construal_vals_server.pickle\"\n",
    "with open(srFile, 'rb') as opn_file:\n",
    "    default_values = pickle.load(opn_file)"
   ]
  },
  {
   "cell_type": "code",
   "execution_count": null,
   "id": "0829127d",
   "metadata": {},
   "outputs": [],
   "source": []
  }
 ],
 "metadata": {
  "kernelspec": {
   "display_name": "gpuDrive",
   "language": "python",
   "name": "python3"
  },
  "language_info": {
   "codemirror_mode": {
    "name": "ipython",
    "version": 3
   },
   "file_extension": ".py",
   "mimetype": "text/x-python",
   "name": "python",
   "nbconvert_exporter": "python",
   "pygments_lexer": "ipython3",
   "version": "3.12.3"
  }
 },
 "nbformat": 4,
 "nbformat_minor": 5
}
