{
 "cells": [
  {
   "cell_type": "markdown",
   "id": "e8c3f717",
   "metadata": {},
   "source": [
    "Get Mean Sqaured (Prediction) Error for lambda-inference for different sample sizes of demonstrated trajectories"
   ]
  },
  {
   "cell_type": "code",
   "execution_count": 13,
   "id": "95695956",
   "metadata": {},
   "outputs": [],
   "source": [
    "import pandas as pd\n",
    "\n",
    "from sklearn.metrics import mean_squared_error as MSE"
   ]
  },
  {
   "cell_type": "code",
   "execution_count": 5,
   "id": "6f53aacd",
   "metadata": {},
   "outputs": [],
   "source": [
    "# |Set root for GPUDrive import\n",
    "import os\n",
    "import sys\n",
    "from pathlib import Path\n",
    "\n",
    "# Set working directory to the base directory 'gpudrive'\n",
    "working_dir = Path.cwd()\n",
    "while working_dir.name != 'gpudrive-CoDec':\n",
    "    working_dir = working_dir.parent\n",
    "    if working_dir == Path.home():\n",
    "        raise FileNotFoundError(\"Base directory 'gpudrive' not found\")\n",
    "os.chdir(working_dir)\n",
    "sys.path.append(str(working_dir))"
   ]
  },
  {
   "cell_type": "code",
   "execution_count": null,
   "id": "4cc72569",
   "metadata": {},
   "outputs": [],
   "source": [
    "# data_path = 'examples/CoDec_Research/results/analysis_results/Results_Set1V2_NeurIPS2025/Revision/ServerResults/sampleVariation/Set1V2_results_1sample.tsv'\n",
    "# data_path = 'examples/CoDec_Research/results/analysis_results/Results_Set1V2_NeurIPS2025/Revision/ServerResults/sampleVariation/Set1V2_results_2sample.tsv'\n",
    "# data_path = 'examples/CoDec_Research/results/analysis_results/Results_Set1V2_NeurIPS2025/Revision/ServerResults/sampleVariation/Set1V2_results_3samples.tsv'\n",
    "# data_path = 'examples/CoDec_Research/results/analysis_results/Results_Set1V2_NeurIPS2025/Revision/ServerResults/sampleVariation/Set1V2_results_4samples.tsv'\n",
    "# data_path = 'examples/CoDec_Research/results/analysis_results/Results_Set1V2_NeurIPS2025/Revision/ServerResults/sampleVariation/Set1V2_results_5samples.tsv'\n",
    "# data_path = 'examples/CoDec_Research/results/analysis_results/Results_Set1V2_NeurIPS2025/Revision/ServerResults/sampleVariation/Set1V2_results_6samples.tsv'\n",
    "# data_path = 'examples/CoDec_Research/results/analysis_results/Results_Set1V2_NeurIPS2025/Revision/ServerResults/sampleVariation/Set1V2_results_7samples.tsv'\n",
    "# data_path = 'examples/CoDec_Research/results/analysis_results/Results_Set1V2_NeurIPS2025/Revision/ServerResults/sampleVariation/Set1V2_results_8samples.tsv'\n",
    "data_path = 'examples/CoDec_Research/results/analysis_results/Results_Set1V2_NeurIPS2025/Revision/ServerResults/sampleVariation/Set1V2_results_9samples.tsv'\n",
    "# data_path = 'examples/CoDec_Research/results/analysis_results/Results_Set1V2_NeurIPS2025/Revision/ServerResults/sampleVariation/Set1V2_results_10samples.tsv'\n",
    "\n",
    "temp = pd.read_csv(data_path, sep='\\t')"
   ]
  },
  {
   "cell_type": "code",
   "execution_count": 25,
   "id": "3f44a334",
   "metadata": {},
   "outputs": [
    {
     "name": "stdout",
     "output_type": "stream",
     "text": [
      "dev_collission  :  76.10982995462355\n",
      "dev_ego_heading  :  34.538827707432574\n",
      "rel_heading  :  38.26259298177843\n"
     ]
    }
   ],
   "source": [
    "# Result for 10 sampled trajectories\n",
    "for grp_indx, grp_data in temp.groupby(\"parameter\"):\n",
    "    print(grp_indx, \" : \", MSE(grp_data[\"lambda_true\"], grp_data[\"lambda_predicted\"]))"
   ]
  },
  {
   "cell_type": "code",
   "execution_count": 27,
   "id": "499f97b4",
   "metadata": {},
   "outputs": [
    {
     "name": "stdout",
     "output_type": "stream",
     "text": [
      "dev_collission  :  47.649715793607044\n",
      "dev_ego_heading  :  25.25880986129022\n",
      "rel_heading  :  20.983758274596777\n"
     ]
    }
   ],
   "source": [
    "# Result for 30 sampled trajectories\n",
    "for grp_indx, grp_data in temp.groupby(\"parameter\"):\n",
    "    print(grp_indx, \" : \", MSE(grp_data[\"lambda_true\"], grp_data[\"lambda_predicted\"]))"
   ]
  },
  {
   "cell_type": "code",
   "execution_count": 29,
   "id": "9733ad45",
   "metadata": {},
   "outputs": [
    {
     "name": "stdout",
     "output_type": "stream",
     "text": [
      "dev_collission  :  32.88759918401356\n",
      "dev_ego_heading  :  26.816919679587937\n",
      "rel_heading  :  17.76683120305377\n"
     ]
    }
   ],
   "source": [
    "# Result for 50 sampled trajectories\n",
    "for grp_indx, grp_data in temp.groupby(\"parameter\"):\n",
    "    print(grp_indx, \" : \", MSE(grp_data[\"lambda_true\"], grp_data[\"lambda_predicted\"]))"
   ]
  },
  {
   "cell_type": "code",
   "execution_count": 31,
   "id": "a626ae77",
   "metadata": {},
   "outputs": [
    {
     "name": "stdout",
     "output_type": "stream",
     "text": [
      "dev_collission  :  34.313439112655104\n",
      "dev_ego_heading  :  19.041603754488616\n",
      "rel_heading  :  15.461158497297918\n"
     ]
    }
   ],
   "source": [
    "# Result for 80 sampled trajectories\n",
    "for grp_indx, grp_data in temp.groupby(\"parameter\"):\n",
    "    print(grp_indx, \" : \", MSE(grp_data[\"lambda_true\"], grp_data[\"lambda_predicted\"]))"
   ]
  },
  {
   "cell_type": "code",
   "execution_count": 33,
   "id": "4f38844f",
   "metadata": {},
   "outputs": [
    {
     "name": "stdout",
     "output_type": "stream",
     "text": [
      "dev_collission  :  33.591515371714955\n",
      "dev_ego_heading  :  22.9788222972174\n",
      "rel_heading  :  14.952960924800948\n"
     ]
    }
   ],
   "source": [
    "# Result for 100 sampled trajectories\n",
    "for grp_indx, grp_data in temp.groupby(\"parameter\"):\n",
    "    print(grp_indx, \" : \", MSE(grp_data[\"lambda_true\"], grp_data[\"lambda_predicted\"]))"
   ]
  }
 ],
 "metadata": {
  "kernelspec": {
   "display_name": "gpuDriveCoDec",
   "language": "python",
   "name": "python3"
  },
  "language_info": {
   "codemirror_mode": {
    "name": "ipython",
    "version": 3
   },
   "file_extension": ".py",
   "mimetype": "text/x-python",
   "name": "python",
   "nbconvert_exporter": "python",
   "pygments_lexer": "ipython3",
   "version": "3.12.3"
  }
 },
 "nbformat": 4,
 "nbformat_minor": 5
}
